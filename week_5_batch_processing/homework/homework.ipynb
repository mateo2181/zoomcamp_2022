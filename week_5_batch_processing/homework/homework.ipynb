{
 "cells": [
  {
   "cell_type": "code",
   "execution_count": 1,
   "id": "4565d5b2",
   "metadata": {},
   "outputs": [],
   "source": [
    "import pyspark\n",
    "from pyspark.sql import SparkSession"
   ]
  },
  {
   "cell_type": "code",
   "execution_count": 2,
   "id": "d9f1a1a3",
   "metadata": {},
   "outputs": [
    {
     "name": "stderr",
     "output_type": "stream",
     "text": [
      "WARNING: An illegal reflective access operation has occurred\n",
      "WARNING: Illegal reflective access by org.apache.spark.unsafe.Platform (file:/home/mateo/spark/spark-3.0.3-bin-hadoop3.2/jars/spark-unsafe_2.12-3.0.3.jar) to constructor java.nio.DirectByteBuffer(long,int)\n",
      "WARNING: Please consider reporting this to the maintainers of org.apache.spark.unsafe.Platform\n",
      "WARNING: Use --illegal-access=warn to enable warnings of further illegal reflective access operations\n",
      "WARNING: All illegal access operations will be denied in a future release\n",
      "22/02/25 22:47:42 WARN NativeCodeLoader: Unable to load native-hadoop library for your platform... using builtin-java classes where applicable\n",
      "Using Spark's default log4j profile: org/apache/spark/log4j-defaults.properties\n",
      "Setting default log level to \"WARN\".\n",
      "To adjust logging level use sc.setLogLevel(newLevel). For SparkR, use setLogLevel(newLevel).\n"
     ]
    }
   ],
   "source": [
    "spark = SparkSession.builder \\\n",
    "    .master(\"local[*]\") \\\n",
    "    .appName('test') \\\n",
    "    .getOrCreate()"
   ]
  },
  {
   "cell_type": "code",
   "execution_count": 3,
   "id": "387de74a",
   "metadata": {},
   "outputs": [
    {
     "data": {
      "text/plain": [
       "'3.0.3'"
      ]
     },
     "execution_count": 3,
     "metadata": {},
     "output_type": "execute_result"
    }
   ],
   "source": [
    "# Question 1\n",
    "spark.version"
   ]
  },
  {
   "cell_type": "code",
   "execution_count": 5,
   "id": "b91a4193",
   "metadata": {},
   "outputs": [
    {
     "name": "stdout",
     "output_type": "stream",
     "text": [
      "--2022-02-22 17:19:48--  https://nyc-tlc.s3.amazonaws.com/trip+data/fhvhv_tripdata_2021-02.csv\n",
      "Resolving nyc-tlc.s3.amazonaws.com (nyc-tlc.s3.amazonaws.com)... 52.217.172.25\n",
      "Connecting to nyc-tlc.s3.amazonaws.com (nyc-tlc.s3.amazonaws.com)|52.217.172.25|:443... connected.\n",
      "HTTP request sent, awaiting response... 200 OK\n",
      "Length: 733822658 (700M) [text/csv]\n",
      "Saving to: ‘fhvhv_tripdata_2021-02.csv’\n",
      "\n",
      "fhvhv_tripdata_2021 100%[===================>] 699.83M  34.7MB/s    in 23s     \n",
      "\n",
      "2022-02-22 17:20:11 (30.7 MB/s) - ‘fhvhv_tripdata_2021-02.csv’ saved [733822658/733822658]\n",
      "\n"
     ]
    }
   ],
   "source": [
    "!wget https://nyc-tlc.s3.amazonaws.com/trip+data/fhvhv_tripdata_2021-02.csv"
   ]
  },
  {
   "cell_type": "code",
   "execution_count": 22,
   "id": "7650aef4",
   "metadata": {},
   "outputs": [],
   "source": [
    "df = spark.read \\\n",
    "     .option(\"header\", \"true\") \\\n",
    "     .csv('fhvhv_tripdata_2021-02.csv')"
   ]
  },
  {
   "cell_type": "code",
   "execution_count": 23,
   "id": "f23d738b",
   "metadata": {},
   "outputs": [
    {
     "data": {
      "text/plain": [
       "StructType(List(StructField(hvfhs_license_num,StringType,true),StructField(dispatching_base_num,StringType,true),StructField(pickup_datetime,StringType,true),StructField(dropoff_datetime,StringType,true),StructField(PULocationID,StringType,true),StructField(DOLocationID,StringType,true),StructField(SR_Flag,StringType,true)))"
      ]
     },
     "execution_count": 23,
     "metadata": {},
     "output_type": "execute_result"
    }
   ],
   "source": [
    "df.schema"
   ]
  },
  {
   "cell_type": "code",
   "execution_count": 62,
   "id": "9e3a8837",
   "metadata": {},
   "outputs": [],
   "source": [
    "from pyspark.sql import types"
   ]
  },
  {
   "cell_type": "code",
   "execution_count": 63,
   "id": "f4f2a8d3",
   "metadata": {},
   "outputs": [],
   "source": [
    "schema = types.StructType([\n",
    "    types.StructField('hvfhs_license_num', types.StringType(), True),\n",
    "    types.StructField('dispatching_base_num', types.StringType(), True),\n",
    "    types.StructField('pickup_datetime', types.TimestampType(), True),\n",
    "    types.StructField('dropoff_datetime', types.TimestampType(), True),\n",
    "    types.StructField('PULocationID', types.IntegerType(), True),\n",
    "    types.StructField('DOLocationID', types.IntegerType(), True),\n",
    "    types.StructField('SR_Flag', types.StringType(), True)\n",
    "])"
   ]
  },
  {
   "cell_type": "code",
   "execution_count": 26,
   "id": "b09a45c4",
   "metadata": {},
   "outputs": [],
   "source": [
    "df = spark.read \\\n",
    "     .option(\"header\", \"true\") \\\n",
    "     .schema(schema) \\\n",
    "     .csv('fhvhv_tripdata_2021-02.csv')"
   ]
  },
  {
   "cell_type": "code",
   "execution_count": 27,
   "id": "c8618e92",
   "metadata": {},
   "outputs": [],
   "source": [
    "df = df.repartition(24)"
   ]
  },
  {
   "cell_type": "code",
   "execution_count": 28,
   "id": "55a055a8",
   "metadata": {},
   "outputs": [
    {
     "name": "stderr",
     "output_type": "stream",
     "text": [
      "                                                                                \r"
     ]
    }
   ],
   "source": [
    "df.write.parquet(\"code/fhvhv/2021/02\", mode=\"overwrite\")"
   ]
  },
  {
   "cell_type": "code",
   "execution_count": 3,
   "id": "872c6555",
   "metadata": {},
   "outputs": [
    {
     "name": "stderr",
     "output_type": "stream",
     "text": [
      "                                                                                \r"
     ]
    }
   ],
   "source": [
    "df = spark.read.parquet(\"code/fhvhv/2021/02\")"
   ]
  },
  {
   "cell_type": "code",
   "execution_count": 4,
   "id": "a26117a9",
   "metadata": {},
   "outputs": [
    {
     "name": "stderr",
     "output_type": "stream",
     "text": [
      "[Stage 1:>                                                          (0 + 1) / 1]\r"
     ]
    },
    {
     "name": "stdout",
     "output_type": "stream",
     "text": [
      "+-----------------+--------------------+-------------------+-------------------+------------+------------+-------+\n",
      "|hvfhs_license_num|dispatching_base_num|    pickup_datetime|   dropoff_datetime|PULocationID|DOLocationID|SR_Flag|\n",
      "+-----------------+--------------------+-------------------+-------------------+------------+------------+-------+\n",
      "|           HV0003|              B02887|2021-02-06 01:18:35|2021-02-06 01:40:34|         163|         235|   null|\n",
      "|           HV0005|              B02510|2021-02-05 07:13:06|2021-02-05 07:31:56|         225|         181|   null|\n",
      "|           HV0003|              B02869|2021-02-04 16:56:52|2021-02-04 17:21:36|         260|          95|   null|\n",
      "|           HV0003|              B02871|2021-02-03 18:34:17|2021-02-03 18:57:12|         235|          60|   null|\n",
      "|           HV0003|              B02869|2021-02-04 07:25:09|2021-02-04 07:30:34|          55|          55|   null|\n",
      "|           HV0003|              B02836|2021-02-04 23:15:27|2021-02-04 23:34:29|          74|          81|   null|\n",
      "|           HV0003|              B02882|2021-02-05 07:45:49|2021-02-05 08:05:03|         239|         231|   null|\n",
      "|           HV0003|              B02887|2021-02-03 17:33:59|2021-02-03 17:47:14|          95|         196|   null|\n",
      "|           HV0003|              B02877|2021-02-03 09:33:06|2021-02-03 09:45:59|         241|         265|   null|\n",
      "|           HV0003|              B02872|2021-02-02 12:58:46|2021-02-02 13:06:20|          90|         137|   null|\n",
      "|           HV0003|              B02764|2021-02-05 22:25:20|2021-02-05 22:28:27|           7|           7|   null|\n",
      "|           HV0003|              B02882|2021-02-04 19:57:44|2021-02-04 20:05:24|         231|         246|   null|\n",
      "|           HV0003|              B02764|2021-02-02 08:43:57|2021-02-02 08:53:46|         108|          29|   null|\n",
      "|           HV0003|              B02866|2021-02-04 05:51:50|2021-02-04 06:21:25|          11|         112|   null|\n",
      "|           HV0003|              B02882|2021-02-05 16:13:02|2021-02-05 16:27:48|         229|         234|   null|\n",
      "|           HV0005|              B02510|2021-02-04 17:15:28|2021-02-04 17:24:46|          10|         218|   null|\n",
      "|           HV0003|              B02617|2021-02-04 09:59:58|2021-02-04 10:29:13|          49|         232|   null|\n",
      "|           HV0005|              B02510|2021-02-05 23:34:27|2021-02-05 23:51:05|         125|          17|   null|\n",
      "|           HV0003|              B02875|2021-02-05 20:52:58|2021-02-05 21:19:59|          47|          68|   null|\n",
      "|           HV0003|              B02875|2021-02-04 18:11:00|2021-02-04 18:37:24|          41|         223|   null|\n",
      "+-----------------+--------------------+-------------------+-------------------+------------+------------+-------+\n",
      "only showing top 20 rows\n",
      "\n"
     ]
    },
    {
     "name": "stderr",
     "output_type": "stream",
     "text": [
      "                                                                                \r"
     ]
    }
   ],
   "source": [
    "df.show()"
   ]
  },
  {
   "cell_type": "code",
   "execution_count": 5,
   "id": "19a9e225",
   "metadata": {},
   "outputs": [],
   "source": [
    "from pyspark.sql import functions as F"
   ]
  },
  {
   "cell_type": "code",
   "execution_count": 67,
   "id": "3a97c7f1",
   "metadata": {},
   "outputs": [
    {
     "name": "stderr",
     "output_type": "stream",
     "text": [
      "                                                                                \r"
     ]
    },
    {
     "data": {
      "text/plain": [
       "367170"
      ]
     },
     "execution_count": 67,
     "metadata": {},
     "output_type": "execute_result"
    }
   ],
   "source": [
    "# QUESTION 3\n",
    "df \\\n",
    "    .select('hvfhs_license_num', 'pickup_datetime') \\\n",
    "    .filter(F.to_date(df.pickup_datetime) == '2021-02-15') \\\n",
    "    .count()"
   ]
  },
  {
   "cell_type": "code",
   "execution_count": 43,
   "id": "2c2fc332",
   "metadata": {},
   "outputs": [
    {
     "name": "stdout",
     "output_type": "stream",
     "text": [
      "+-----------------+--------------------+-------------------+-------------------+------------+------------+-------+\n",
      "|hvfhs_license_num|dispatching_base_num|    pickup_datetime|   dropoff_datetime|PULocationID|DOLocationID|SR_Flag|\n",
      "+-----------------+--------------------+-------------------+-------------------+------------+------------+-------+\n",
      "|           HV0003|              B02887|2021-02-06 01:18:35|2021-02-06 01:40:34|         163|         235|   null|\n",
      "|           HV0005|              B02510|2021-02-05 07:13:06|2021-02-05 07:31:56|         225|         181|   null|\n",
      "|           HV0003|              B02869|2021-02-04 16:56:52|2021-02-04 17:21:36|         260|          95|   null|\n",
      "|           HV0003|              B02871|2021-02-03 18:34:17|2021-02-03 18:57:12|         235|          60|   null|\n",
      "|           HV0003|              B02869|2021-02-04 07:25:09|2021-02-04 07:30:34|          55|          55|   null|\n",
      "|           HV0003|              B02836|2021-02-04 23:15:27|2021-02-04 23:34:29|          74|          81|   null|\n",
      "|           HV0003|              B02882|2021-02-05 07:45:49|2021-02-05 08:05:03|         239|         231|   null|\n",
      "|           HV0003|              B02887|2021-02-03 17:33:59|2021-02-03 17:47:14|          95|         196|   null|\n",
      "|           HV0003|              B02877|2021-02-03 09:33:06|2021-02-03 09:45:59|         241|         265|   null|\n",
      "|           HV0003|              B02872|2021-02-02 12:58:46|2021-02-02 13:06:20|          90|         137|   null|\n",
      "|           HV0003|              B02764|2021-02-05 22:25:20|2021-02-05 22:28:27|           7|           7|   null|\n",
      "|           HV0003|              B02882|2021-02-04 19:57:44|2021-02-04 20:05:24|         231|         246|   null|\n",
      "|           HV0003|              B02764|2021-02-02 08:43:57|2021-02-02 08:53:46|         108|          29|   null|\n",
      "|           HV0003|              B02866|2021-02-04 05:51:50|2021-02-04 06:21:25|          11|         112|   null|\n",
      "|           HV0003|              B02882|2021-02-05 16:13:02|2021-02-05 16:27:48|         229|         234|   null|\n",
      "|           HV0005|              B02510|2021-02-04 17:15:28|2021-02-04 17:24:46|          10|         218|   null|\n",
      "|           HV0003|              B02617|2021-02-04 09:59:58|2021-02-04 10:29:13|          49|         232|   null|\n",
      "|           HV0005|              B02510|2021-02-05 23:34:27|2021-02-05 23:51:05|         125|          17|   null|\n",
      "|           HV0003|              B02875|2021-02-05 20:52:58|2021-02-05 21:19:59|          47|          68|   null|\n",
      "|           HV0003|              B02875|2021-02-04 18:11:00|2021-02-04 18:37:24|          41|         223|   null|\n",
      "+-----------------+--------------------+-------------------+-------------------+------------+------------+-------+\n",
      "only showing top 20 rows\n",
      "\n"
     ]
    }
   ],
   "source": [
    "df.show()"
   ]
  },
  {
   "cell_type": "code",
   "execution_count": 53,
   "id": "99adee12",
   "metadata": {},
   "outputs": [
    {
     "name": "stderr",
     "output_type": "stream",
     "text": [
      "[Stage 25:=============================>                            (2 + 2) / 4]\r"
     ]
    },
    {
     "name": "stdout",
     "output_type": "stream",
     "text": [
      "+-----------------+------------------+-------------------+-------------------+\n",
      "|hvfhs_license_num|  duration_minutes|    pickup_datetime|   dropoff_datetime|\n",
      "+-----------------+------------------+-------------------+-------------------+\n",
      "|           HV0005|            1259.0|2021-02-11 13:40:44|2021-02-12 10:39:44|\n",
      "|           HV0004| 953.6833333333333|2021-02-17 15:54:53|2021-02-18 07:48:34|\n",
      "|           HV0004| 733.9833333333333|2021-02-20 12:08:15|2021-02-21 00:22:14|\n",
      "|           HV0003|            677.55|2021-02-03 20:24:25|2021-02-04 07:41:58|\n",
      "|           HV0003| 626.2833333333333|2021-02-19 23:17:44|2021-02-20 09:44:01|\n",
      "|           HV0003|             583.5|2021-02-25 17:13:35|2021-02-26 02:57:05|\n",
      "|           HV0003|             580.1|2021-02-20 01:36:13|2021-02-20 11:16:19|\n",
      "|           HV0005| 576.8666666666667|2021-02-18 15:24:19|2021-02-19 01:01:11|\n",
      "|           HV0003| 575.9166666666666|2021-02-18 01:31:20|2021-02-18 11:07:15|\n",
      "|           HV0005| 569.4833333333333|2021-02-10 20:51:39|2021-02-11 06:21:08|\n",
      "|           HV0003| 541.2666666666667|2021-02-10 01:56:17|2021-02-10 10:57:33|\n",
      "|           HV0005|            540.65|2021-02-25 09:18:18|2021-02-25 18:18:57|\n",
      "|           HV0005|            537.05|2021-02-21 19:59:13|2021-02-22 04:56:16|\n",
      "|           HV0003| 534.7833333333333|2021-02-09 18:36:13|2021-02-10 03:31:00|\n",
      "|           HV0004| 524.1166666666667|2021-02-06 09:48:09|2021-02-06 18:32:16|\n",
      "|           HV0005| 515.2166666666667|2021-02-02 09:42:30|2021-02-02 18:17:43|\n",
      "|           HV0005| 514.2666666666667|2021-02-10 10:12:08|2021-02-10 18:46:24|\n",
      "|           HV0003|             512.2|2021-02-09 13:30:13|2021-02-09 22:02:25|\n",
      "|           HV0005|             511.0|2021-02-21 22:50:52|2021-02-22 07:21:52|\n",
      "|           HV0005|508.51666666666665|2021-02-05 21:32:33|2021-02-06 06:01:04|\n",
      "+-----------------+------------------+-------------------+-------------------+\n",
      "only showing top 20 rows\n",
      "\n"
     ]
    },
    {
     "name": "stderr",
     "output_type": "stream",
     "text": [
      "                                                                                \r"
     ]
    }
   ],
   "source": [
    "# QUESTION 4\n",
    "df \\\n",
    "    .withColumn('duration_minutes', ((F.unix_timestamp(df.dropoff_datetime) - F.unix_timestamp(df.pickup_datetime)) / 60)) \\\n",
    "    .select('hvfhs_license_num','duration_minutes','pickup_datetime', 'dropoff_datetime') \\\n",
    "    .sort(F.desc('duration_minutes')) \\\n",
    "    .show()"
   ]
  },
  {
   "cell_type": "code",
   "execution_count": 6,
   "id": "0e9e7ad9",
   "metadata": {},
   "outputs": [],
   "source": [
    "# QUESTION 5\n",
    "df.registerTempTable('fhvhv_data')"
   ]
  },
  {
   "cell_type": "code",
   "execution_count": 7,
   "id": "8bb36417",
   "metadata": {},
   "outputs": [
    {
     "name": "stderr",
     "output_type": "stream",
     "text": [
      "[Stage 3:==========================================>            (153 + 4) / 200]\r"
     ]
    },
    {
     "name": "stdout",
     "output_type": "stream",
     "text": [
      "+--------------------+-------+\n",
      "|dispatching_base_num|  count|\n",
      "+--------------------+-------+\n",
      "|              B02510|3233664|\n",
      "|              B02764| 965568|\n",
      "|              B02872| 882689|\n",
      "|              B02875| 685390|\n",
      "|              B02765| 559768|\n",
      "|              B02869| 429720|\n",
      "|              B02887| 322331|\n",
      "|              B02871| 312364|\n",
      "|              B02864| 311603|\n",
      "|              B02866| 311089|\n",
      "|              B02878| 305185|\n",
      "|              B02682| 303255|\n",
      "|              B02617| 274510|\n",
      "|              B02883| 251617|\n",
      "|              B02884| 244963|\n",
      "|              B02882| 232173|\n",
      "|              B02876| 215693|\n",
      "|              B02879| 210137|\n",
      "|              B02867| 200530|\n",
      "|              B02877| 198938|\n",
      "+--------------------+-------+\n",
      "only showing top 20 rows\n",
      "\n"
     ]
    },
    {
     "name": "stderr",
     "output_type": "stream",
     "text": [
      "                                                                                \r"
     ]
    }
   ],
   "source": [
    "# QUESTION 5\n",
    "spark.sql(\"\"\"\n",
    "SELECT dispatching_base_num,\n",
    "       count(1) as count\n",
    "FROM\n",
    "    fhvhv_data\n",
    "GROUP BY\n",
    "    dispatching_base_num\n",
    "ORDER BY count desc\n",
    "\"\"\").show()"
   ]
  },
  {
   "cell_type": "code",
   "execution_count": 73,
   "id": "b77049a4",
   "metadata": {},
   "outputs": [
    {
     "name": "stdout",
     "output_type": "stream",
     "text": [
      "--2022-02-22 18:36:02--  https://s3.amazonaws.com/nyc-tlc/misc/taxi+_zone_lookup.csv\n",
      "Resolving s3.amazonaws.com (s3.amazonaws.com)... 52.217.80.94\n",
      "Connecting to s3.amazonaws.com (s3.amazonaws.com)|52.217.80.94|:443... connected.\n",
      "HTTP request sent, awaiting response... 200 OK\n",
      "Length: 12322 (12K) [application/octet-stream]\n",
      "Saving to: ‘taxi+_zone_lookup.csv’\n",
      "\n",
      "taxi+_zone_lookup.c 100%[===================>]  12.03K  --.-KB/s    in 0s      \n",
      "\n",
      "2022-02-22 18:36:02 (120 MB/s) - ‘taxi+_zone_lookup.csv’ saved [12322/12322]\n",
      "\n"
     ]
    }
   ],
   "source": [
    "# QUESTION 6\n",
    "!wget https://s3.amazonaws.com/nyc-tlc/misc/taxi+_zone_lookup.csv"
   ]
  },
  {
   "cell_type": "code",
   "execution_count": 75,
   "id": "e3d1c604",
   "metadata": {},
   "outputs": [],
   "source": [
    "df_zones = spark.read \\\n",
    "     .option(\"header\", \"true\") \\\n",
    "     .csv('taxi+_zone_lookup.csv')"
   ]
  },
  {
   "cell_type": "code",
   "execution_count": 76,
   "id": "b1b94bff",
   "metadata": {},
   "outputs": [
    {
     "data": {
      "text/plain": [
       "StructType(List(StructField(LocationID,StringType,true),StructField(Borough,StringType,true),StructField(Zone,StringType,true),StructField(service_zone,StringType,true)))"
      ]
     },
     "execution_count": 76,
     "metadata": {},
     "output_type": "execute_result"
    }
   ],
   "source": [
    "df_zones.schema"
   ]
  },
  {
   "cell_type": "code",
   "execution_count": 77,
   "id": "061f5482",
   "metadata": {},
   "outputs": [
    {
     "name": "stdout",
     "output_type": "stream",
     "text": [
      "+----------+-------------+--------------------+------------+\n",
      "|LocationID|      Borough|                Zone|service_zone|\n",
      "+----------+-------------+--------------------+------------+\n",
      "|         1|          EWR|      Newark Airport|         EWR|\n",
      "|         2|       Queens|         Jamaica Bay|   Boro Zone|\n",
      "|         3|        Bronx|Allerton/Pelham G...|   Boro Zone|\n",
      "|         4|    Manhattan|       Alphabet City| Yellow Zone|\n",
      "|         5|Staten Island|       Arden Heights|   Boro Zone|\n",
      "|         6|Staten Island|Arrochar/Fort Wad...|   Boro Zone|\n",
      "|         7|       Queens|             Astoria|   Boro Zone|\n",
      "|         8|       Queens|        Astoria Park|   Boro Zone|\n",
      "|         9|       Queens|          Auburndale|   Boro Zone|\n",
      "|        10|       Queens|        Baisley Park|   Boro Zone|\n",
      "|        11|     Brooklyn|          Bath Beach|   Boro Zone|\n",
      "|        12|    Manhattan|        Battery Park| Yellow Zone|\n",
      "|        13|    Manhattan|   Battery Park City| Yellow Zone|\n",
      "|        14|     Brooklyn|           Bay Ridge|   Boro Zone|\n",
      "|        15|       Queens|Bay Terrace/Fort ...|   Boro Zone|\n",
      "|        16|       Queens|             Bayside|   Boro Zone|\n",
      "|        17|     Brooklyn|             Bedford|   Boro Zone|\n",
      "|        18|        Bronx|        Bedford Park|   Boro Zone|\n",
      "|        19|       Queens|           Bellerose|   Boro Zone|\n",
      "|        20|        Bronx|             Belmont|   Boro Zone|\n",
      "+----------+-------------+--------------------+------------+\n",
      "only showing top 20 rows\n",
      "\n"
     ]
    }
   ],
   "source": [
    "df_zones.show()"
   ]
  },
  {
   "cell_type": "code",
   "execution_count": 78,
   "id": "e5efc3df",
   "metadata": {},
   "outputs": [],
   "source": [
    "schema_zones = types.StructType([\n",
    "    types.StructField('LocationID', types.IntegerType(), True),\n",
    "    types.StructField('Borough', types.StringType(), True),\n",
    "    types.StructField('Zone', types.StringType(), True),\n",
    "    types.StructField('service_zone', types.StringType(), True)\n",
    "])"
   ]
  },
  {
   "cell_type": "code",
   "execution_count": 79,
   "id": "5bfe7097",
   "metadata": {},
   "outputs": [],
   "source": [
    "df_zones = spark.read \\\n",
    "     .option(\"header\", \"true\") \\\n",
    "     .schema(schema_zones) \\\n",
    "     .csv('taxi+_zone_lookup.csv')"
   ]
  },
  {
   "cell_type": "code",
   "execution_count": 80,
   "id": "83f1e0ee",
   "metadata": {},
   "outputs": [
    {
     "data": {
      "text/plain": [
       "StructType(List(StructField(LocationID,IntegerType,true),StructField(Borough,StringType,true),StructField(Zone,StringType,true),StructField(service_zone,StringType,true)))"
      ]
     },
     "execution_count": 80,
     "metadata": {},
     "output_type": "execute_result"
    }
   ],
   "source": [
    "df_zones.schema"
   ]
  },
  {
   "cell_type": "code",
   "execution_count": 81,
   "id": "7b8664b8",
   "metadata": {},
   "outputs": [
    {
     "name": "stdout",
     "output_type": "stream",
     "text": [
      "+----------+-------------+--------------------+------------+\n",
      "|LocationID|      Borough|                Zone|service_zone|\n",
      "+----------+-------------+--------------------+------------+\n",
      "|         1|          EWR|      Newark Airport|         EWR|\n",
      "|         2|       Queens|         Jamaica Bay|   Boro Zone|\n",
      "|         3|        Bronx|Allerton/Pelham G...|   Boro Zone|\n",
      "|         4|    Manhattan|       Alphabet City| Yellow Zone|\n",
      "|         5|Staten Island|       Arden Heights|   Boro Zone|\n",
      "|         6|Staten Island|Arrochar/Fort Wad...|   Boro Zone|\n",
      "|         7|       Queens|             Astoria|   Boro Zone|\n",
      "|         8|       Queens|        Astoria Park|   Boro Zone|\n",
      "|         9|       Queens|          Auburndale|   Boro Zone|\n",
      "|        10|       Queens|        Baisley Park|   Boro Zone|\n",
      "|        11|     Brooklyn|          Bath Beach|   Boro Zone|\n",
      "|        12|    Manhattan|        Battery Park| Yellow Zone|\n",
      "|        13|    Manhattan|   Battery Park City| Yellow Zone|\n",
      "|        14|     Brooklyn|           Bay Ridge|   Boro Zone|\n",
      "|        15|       Queens|Bay Terrace/Fort ...|   Boro Zone|\n",
      "|        16|       Queens|             Bayside|   Boro Zone|\n",
      "|        17|     Brooklyn|             Bedford|   Boro Zone|\n",
      "|        18|        Bronx|        Bedford Park|   Boro Zone|\n",
      "|        19|       Queens|           Bellerose|   Boro Zone|\n",
      "|        20|        Bronx|             Belmont|   Boro Zone|\n",
      "+----------+-------------+--------------------+------------+\n",
      "only showing top 20 rows\n",
      "\n"
     ]
    }
   ],
   "source": [
    "df_zones.show()"
   ]
  },
  {
   "cell_type": "code",
   "execution_count": 83,
   "id": "819d68dd",
   "metadata": {},
   "outputs": [],
   "source": [
    "df_zones.write.parquet(\"code/zones/\", mode=\"overwrite\")"
   ]
  },
  {
   "cell_type": "code",
   "execution_count": 8,
   "id": "d8ded1e1",
   "metadata": {},
   "outputs": [],
   "source": [
    "df_zones = spark.read.parquet(\"code/zones\")"
   ]
  },
  {
   "cell_type": "code",
   "execution_count": 9,
   "id": "62bea18e",
   "metadata": {},
   "outputs": [
    {
     "name": "stdout",
     "output_type": "stream",
     "text": [
      "+----------+-------------+--------------------+------------+\n",
      "|LocationID|      Borough|                Zone|service_zone|\n",
      "+----------+-------------+--------------------+------------+\n",
      "|         1|          EWR|      Newark Airport|         EWR|\n",
      "|         2|       Queens|         Jamaica Bay|   Boro Zone|\n",
      "|         3|        Bronx|Allerton/Pelham G...|   Boro Zone|\n",
      "|         4|    Manhattan|       Alphabet City| Yellow Zone|\n",
      "|         5|Staten Island|       Arden Heights|   Boro Zone|\n",
      "|         6|Staten Island|Arrochar/Fort Wad...|   Boro Zone|\n",
      "|         7|       Queens|             Astoria|   Boro Zone|\n",
      "|         8|       Queens|        Astoria Park|   Boro Zone|\n",
      "|         9|       Queens|          Auburndale|   Boro Zone|\n",
      "|        10|       Queens|        Baisley Park|   Boro Zone|\n",
      "|        11|     Brooklyn|          Bath Beach|   Boro Zone|\n",
      "|        12|    Manhattan|        Battery Park| Yellow Zone|\n",
      "|        13|    Manhattan|   Battery Park City| Yellow Zone|\n",
      "|        14|     Brooklyn|           Bay Ridge|   Boro Zone|\n",
      "|        15|       Queens|Bay Terrace/Fort ...|   Boro Zone|\n",
      "|        16|       Queens|             Bayside|   Boro Zone|\n",
      "|        17|     Brooklyn|             Bedford|   Boro Zone|\n",
      "|        18|        Bronx|        Bedford Park|   Boro Zone|\n",
      "|        19|       Queens|           Bellerose|   Boro Zone|\n",
      "|        20|        Bronx|             Belmont|   Boro Zone|\n",
      "+----------+-------------+--------------------+------------+\n",
      "only showing top 20 rows\n",
      "\n"
     ]
    }
   ],
   "source": [
    "df_zones.show()"
   ]
  },
  {
   "cell_type": "code",
   "execution_count": 10,
   "id": "549dba7f",
   "metadata": {},
   "outputs": [],
   "source": [
    "df_zones.registerTempTable('zones')"
   ]
  },
  {
   "cell_type": "code",
   "execution_count": 24,
   "id": "56c1fe26",
   "metadata": {},
   "outputs": [
    {
     "name": "stderr",
     "output_type": "stream",
     "text": [
      "                                                                                \r"
     ]
    },
    {
     "name": "stdout",
     "output_type": "stream",
     "text": [
      "+---------------------------------------------+---------------------------------------------+------------------------------------------------------------+\n",
      "|puZone                                       |doZone                                       |pair                                                        |\n",
      "+---------------------------------------------+---------------------------------------------+------------------------------------------------------------+\n",
      "|null                                         |Rikers Island                                |null                                                        |\n",
      "|Governor's Island/Ellis Island/Liberty Island|null                                         |null                                                        |\n",
      "|null                                         |NV                                           |null                                                        |\n",
      "|null                                         |Governor's Island/Ellis Island/Liberty Island|null                                                        |\n",
      "|Governor's Island/Ellis Island/Liberty Island|null                                         |null                                                        |\n",
      "|NV                                           |null                                         |null                                                        |\n",
      "|Governor's Island/Ellis Island/Liberty Island|null                                         |null                                                        |\n",
      "|null                                         |Governor's Island/Ellis Island/Liberty Island|null                                                        |\n",
      "|Belmont                                      |Bronx Park                                   |Belmont / Bronx Park                                        |\n",
      "|West Concourse                               |Bronx Park                                   |West Concourse / Bronx Park                                 |\n",
      "|Stuyvesant Heights                           |Downtown Brooklyn/MetroTech                  |Stuyvesant Heights / Downtown Brooklyn/MetroTech            |\n",
      "|Soundview/Castle Hill                        |Bronx Park                                   |Soundview/Castle Hill / Bronx Park                          |\n",
      "|Brooklyn Navy Yard                           |Downtown Brooklyn/MetroTech                  |Brooklyn Navy Yard / Downtown Brooklyn/MetroTech            |\n",
      "|JFK Airport                                  |Downtown Brooklyn/MetroTech                  |JFK Airport / Downtown Brooklyn/MetroTech                   |\n",
      "|Cobble Hill                                  |Downtown Brooklyn/MetroTech                  |Cobble Hill / Downtown Brooklyn/MetroTech                   |\n",
      "|East Tremont                                 |Bronx Park                                   |East Tremont / Bronx Park                                   |\n",
      "|Stuyvesant Heights                           |Downtown Brooklyn/MetroTech                  |Stuyvesant Heights / Downtown Brooklyn/MetroTech            |\n",
      "|UN/Turtle Bay South                          |Downtown Brooklyn/MetroTech                  |UN/Turtle Bay South / Downtown Brooklyn/MetroTech           |\n",
      "|Ocean Hill                                   |Downtown Brooklyn/MetroTech                  |Ocean Hill / Downtown Brooklyn/MetroTech                    |\n",
      "|Borough Park                                 |Downtown Brooklyn/MetroTech                  |Borough Park / Downtown Brooklyn/MetroTech                  |\n",
      "|Queensboro Hill                              |Downtown Brooklyn/MetroTech                  |Queensboro Hill / Downtown Brooklyn/MetroTech               |\n",
      "|Flatlands                                    |Downtown Brooklyn/MetroTech                  |Flatlands / Downtown Brooklyn/MetroTech                     |\n",
      "|Times Sq/Theatre District                    |Downtown Brooklyn/MetroTech                  |Times Sq/Theatre District / Downtown Brooklyn/MetroTech     |\n",
      "|Erasmus                                      |Downtown Brooklyn/MetroTech                  |Erasmus / Downtown Brooklyn/MetroTech                       |\n",
      "|Prospect Heights                             |Downtown Brooklyn/MetroTech                  |Prospect Heights / Downtown Brooklyn/MetroTech              |\n",
      "|Kips Bay                                     |Downtown Brooklyn/MetroTech                  |Kips Bay / Downtown Brooklyn/MetroTech                      |\n",
      "|Downtown Brooklyn/MetroTech                  |Downtown Brooklyn/MetroTech                  |Downtown Brooklyn/MetroTech / Downtown Brooklyn/MetroTech   |\n",
      "|Downtown Brooklyn/MetroTech                  |Downtown Brooklyn/MetroTech                  |Downtown Brooklyn/MetroTech / Downtown Brooklyn/MetroTech   |\n",
      "|Williamsburg (North Side)                    |Downtown Brooklyn/MetroTech                  |Williamsburg (North Side) / Downtown Brooklyn/MetroTech     |\n",
      "|Brooklyn Navy Yard                           |Downtown Brooklyn/MetroTech                  |Brooklyn Navy Yard / Downtown Brooklyn/MetroTech            |\n",
      "|Ocean Hill                                   |Downtown Brooklyn/MetroTech                  |Ocean Hill / Downtown Brooklyn/MetroTech                    |\n",
      "|Ocean Hill                                   |Downtown Brooklyn/MetroTech                  |Ocean Hill / Downtown Brooklyn/MetroTech                    |\n",
      "|JFK Airport                                  |Downtown Brooklyn/MetroTech                  |JFK Airport / Downtown Brooklyn/MetroTech                   |\n",
      "|JFK Airport                                  |Downtown Brooklyn/MetroTech                  |JFK Airport / Downtown Brooklyn/MetroTech                   |\n",
      "|Washington Heights North                     |Bronx Park                                   |Washington Heights North / Bronx Park                       |\n",
      "|Long Island City/Queens Plaza                |Downtown Brooklyn/MetroTech                  |Long Island City/Queens Plaza / Downtown Brooklyn/MetroTech |\n",
      "|Long Island City/Queens Plaza                |Downtown Brooklyn/MetroTech                  |Long Island City/Queens Plaza / Downtown Brooklyn/MetroTech |\n",
      "|Long Island City/Queens Plaza                |Downtown Brooklyn/MetroTech                  |Long Island City/Queens Plaza / Downtown Brooklyn/MetroTech |\n",
      "|Prospect Heights                             |Downtown Brooklyn/MetroTech                  |Prospect Heights / Downtown Brooklyn/MetroTech              |\n",
      "|Lower East Side                              |Downtown Brooklyn/MetroTech                  |Lower East Side / Downtown Brooklyn/MetroTech               |\n",
      "|Claremont/Bathgate                           |Bronx Park                                   |Claremont/Bathgate / Bronx Park                             |\n",
      "|Stuyvesant Heights                           |Downtown Brooklyn/MetroTech                  |Stuyvesant Heights / Downtown Brooklyn/MetroTech            |\n",
      "|Stuyvesant Heights                           |Downtown Brooklyn/MetroTech                  |Stuyvesant Heights / Downtown Brooklyn/MetroTech            |\n",
      "|Stuyvesant Heights                           |Downtown Brooklyn/MetroTech                  |Stuyvesant Heights / Downtown Brooklyn/MetroTech            |\n",
      "|Claremont/Bathgate                           |Bronx Park                                   |Claremont/Bathgate / Bronx Park                             |\n",
      "|Two Bridges/Seward Park                      |Downtown Brooklyn/MetroTech                  |Two Bridges/Seward Park / Downtown Brooklyn/MetroTech       |\n",
      "|Two Bridges/Seward Park                      |Downtown Brooklyn/MetroTech                  |Two Bridges/Seward Park / Downtown Brooklyn/MetroTech       |\n",
      "|UN/Turtle Bay South                          |Downtown Brooklyn/MetroTech                  |UN/Turtle Bay South / Downtown Brooklyn/MetroTech           |\n",
      "|Bronx Park                                   |Bronx Park                                   |Bronx Park / Bronx Park                                     |\n",
      "|Stuy Town/Peter Cooper Village               |Downtown Brooklyn/MetroTech                  |Stuy Town/Peter Cooper Village / Downtown Brooklyn/MetroTech|\n",
      "|Claremont/Bathgate                           |Downtown Brooklyn/MetroTech                  |Claremont/Bathgate / Downtown Brooklyn/MetroTech            |\n",
      "|Lenox Hill East                              |Downtown Brooklyn/MetroTech                  |Lenox Hill East / Downtown Brooklyn/MetroTech               |\n",
      "|SoHo                                         |Downtown Brooklyn/MetroTech                  |SoHo / Downtown Brooklyn/MetroTech                          |\n",
      "|East New York                                |Downtown Brooklyn/MetroTech                  |East New York / Downtown Brooklyn/MetroTech                 |\n",
      "|Borough Park                                 |Downtown Brooklyn/MetroTech                  |Borough Park / Downtown Brooklyn/MetroTech                  |\n",
      "|East Tremont                                 |Bronx Park                                   |East Tremont / Bronx Park                                   |\n",
      "|Baisley Park                                 |Bronx Park                                   |Baisley Park / Bronx Park                                   |\n",
      "|Allerton/Pelham Gardens                      |Bronx Park                                   |Allerton/Pelham Gardens / Bronx Park                        |\n",
      "|Morrisania/Melrose                           |Bronx Park                                   |Morrisania/Melrose / Bronx Park                             |\n",
      "|Melrose South                                |Downtown Brooklyn/MetroTech                  |Melrose South / Downtown Brooklyn/MetroTech                 |\n",
      "|Bronxdale                                    |Bronx Park                                   |Bronxdale / Bronx Park                                      |\n",
      "|Allerton/Pelham Gardens                      |Bronx Park                                   |Allerton/Pelham Gardens / Bronx Park                        |\n",
      "|Bronxdale                                    |Bronx Park                                   |Bronxdale / Bronx Park                                      |\n",
      "|Flatlands                                    |Downtown Brooklyn/MetroTech                  |Flatlands / Downtown Brooklyn/MetroTech                     |\n",
      "|Long Island City/Hunters Point               |Bronx Park                                   |Long Island City/Hunters Point / Bronx Park                 |\n",
      "|Belmont                                      |Bronx Park                                   |Belmont / Bronx Park                                        |\n",
      "|Williamsbridge/Olinville                     |Bronx Park                                   |Williamsbridge/Olinville / Bronx Park                       |\n",
      "|Bensonhurst West                             |Downtown Brooklyn/MetroTech                  |Bensonhurst West / Downtown Brooklyn/MetroTech              |\n",
      "|Sunset Park West                             |Bronx Park                                   |Sunset Park West / Bronx Park                               |\n",
      "|Mount Hope                                   |Bronx Park                                   |Mount Hope / Bronx Park                                     |\n",
      "|Longwood                                     |Bronx Park                                   |Longwood / Bronx Park                                       |\n",
      "|Washington Heights North                     |Downtown Brooklyn/MetroTech                  |Washington Heights North / Downtown Brooklyn/MetroTech      |\n",
      "|Longwood                                     |Bronx Park                                   |Longwood / Bronx Park                                       |\n",
      "|Mount Hope                                   |Bronx Park                                   |Mount Hope / Bronx Park                                     |\n",
      "|Van Nest/Morris Park                         |Bronx Park                                   |Van Nest/Morris Park / Bronx Park                           |\n",
      "|Erasmus                                      |Downtown Brooklyn/MetroTech                  |Erasmus / Downtown Brooklyn/MetroTech                       |\n",
      "|Central Harlem North                         |Bronx Park                                   |Central Harlem North / Bronx Park                           |\n",
      "|Fordham South                                |Bronx Park                                   |Fordham South / Bronx Park                                  |\n",
      "|Norwood                                      |Bronx Park                                   |Norwood / Bronx Park                                        |\n",
      "|Lower East Side                              |Downtown Brooklyn/MetroTech                  |Lower East Side / Downtown Brooklyn/MetroTech               |\n",
      "|Norwood                                      |Bronx Park                                   |Norwood / Bronx Park                                        |\n",
      "|Westchester Village/Unionport                |Bronx Park                                   |Westchester Village/Unionport / Bronx Park                  |\n",
      "|Bedford Park                                 |Bronx Park                                   |Bedford Park / Bronx Park                                   |\n",
      "|Eastchester                                  |Bronx Park                                   |Eastchester / Bronx Park                                    |\n",
      "|Bedford Park                                 |Bronx Park                                   |Bedford Park / Bronx Park                                   |\n",
      "|Midtown North                                |Bronx Park                                   |Midtown North / Bronx Park                                  |\n",
      "|Bedford Park                                 |Bronx Park                                   |Bedford Park / Bronx Park                                   |\n",
      "|Downtown Brooklyn/MetroTech                  |Downtown Brooklyn/MetroTech                  |Downtown Brooklyn/MetroTech / Downtown Brooklyn/MetroTech   |\n",
      "|East Harlem North                            |Bronx Park                                   |East Harlem North / Bronx Park                              |\n",
      "|Inwood                                       |Bronx Park                                   |Inwood / Bronx Park                                         |\n",
      "|East Harlem North                            |Bronx Park                                   |East Harlem North / Bronx Park                              |\n",
      "|Williamsburg (North Side)                    |Downtown Brooklyn/MetroTech                  |Williamsburg (North Side) / Downtown Brooklyn/MetroTech     |\n",
      "|Van Cortlandt Village                        |Bronx Park                                   |Van Cortlandt Village / Bronx Park                          |\n",
      "|East Tremont                                 |Bronx Park                                   |East Tremont / Bronx Park                                   |\n",
      "|Parkchester                                  |Bronx Park                                   |Parkchester / Bronx Park                                    |\n",
      "|Williamsburg (North Side)                    |Downtown Brooklyn/MetroTech                  |Williamsburg (North Side) / Downtown Brooklyn/MetroTech     |\n",
      "|Washington Heights South                     |Bronx Park                                   |Washington Heights South / Bronx Park                       |\n",
      "|Hunts Point                                  |Bronx Park                                   |Hunts Point / Bronx Park                                    |\n",
      "|Mott Haven/Port Morris                       |Bronx Park                                   |Mott Haven/Port Morris / Bronx Park                         |\n",
      "|Ocean Hill                                   |Downtown Brooklyn/MetroTech                  |Ocean Hill / Downtown Brooklyn/MetroTech                    |\n",
      "+---------------------------------------------+---------------------------------------------+------------------------------------------------------------+\n",
      "\n"
     ]
    }
   ],
   "source": [
    "spark.sql(\"\"\"\n",
    "SELECT\n",
    "       zpu.Zone as puZone,\n",
    "       zdo.Zone as doZone,\n",
    "       CONCAT(zpu.Zone, ' / ', zdo.Zone) as pair\n",
    "FROM fhvhv_data\n",
    "FULL OUTER JOIN zones as zpu ON fhvhv_data.PULocationID=zpu.LocationID\n",
    "FULL OUTER JOIN zones as zdo ON fhvhv_data.DOLocationID=zdo.LocationID\n",
    "ORDER BY fhvhv_data.dispatching_base_num\n",
    "LIMIT 100\n",
    "\"\"\").show(100,truncate=False)"
   ]
  },
  {
   "cell_type": "code",
   "execution_count": 15,
   "id": "18562e72",
   "metadata": {},
   "outputs": [
    {
     "name": "stderr",
     "output_type": "stream",
     "text": [
      "[Stage 30:=====================================>                (139 + 4) / 200]\r"
     ]
    },
    {
     "name": "stdout",
     "output_type": "stream",
     "text": [
      "+---------------------------------------------------------------------+-----+\n",
      "|pair                                                                 |count|\n",
      "+---------------------------------------------------------------------+-----+\n",
      "|East New York / East New York                                        |45041|\n",
      "|Borough Park / Borough Park                                          |37329|\n",
      "|Canarsie / Canarsie                                                  |28026|\n",
      "|Crown Heights North / Crown Heights North                            |25976|\n",
      "|Bay Ridge / Bay Ridge                                                |17934|\n",
      "|Astoria / Astoria                                                    |14688|\n",
      "|Jackson Heights / Jackson Heights                                    |14688|\n",
      "|Central Harlem North / Central Harlem North                          |14481|\n",
      "|Bushwick South / Bushwick South                                      |14424|\n",
      "|Flatbush/Ditmas Park / Flatbush/Ditmas Park                          |13976|\n",
      "|South Ozone Park / South Ozone Park                                  |13716|\n",
      "|Brownsville / Brownsville                                            |12829|\n",
      "|JFK Airport / NA                                                     |12542|\n",
      "|Prospect-Lefferts Gardens / Crown Heights North                      |11814|\n",
      "|Forest Hills / Forest Hills                                          |11548|\n",
      "|Bushwick North / Bushwick South                                      |11491|\n",
      "|Bushwick South / Bushwick North                                      |11487|\n",
      "|Crown Heights North / Prospect-Lefferts Gardens                      |11462|\n",
      "|Crown Heights North / Stuyvesant Heights                             |11342|\n",
      "|Prospect-Lefferts Gardens / Prospect-Lefferts Gardens                |11308|\n",
      "|Stuyvesant Heights / Crown Heights North                             |11293|\n",
      "|Brownsville / East New York                                          |11244|\n",
      "|Bedford / Bedford                                                    |11021|\n",
      "|Canarsie / East New York                                             |10688|\n",
      "|Stuyvesant Heights / Stuyvesant Heights                              |10675|\n",
      "|East New York / Brownsville                                          |10621|\n",
      "|Elmhurst / Elmhurst                                                  |10604|\n",
      "|Soundview/Castle Hill / Soundview/Castle Hill                        |10519|\n",
      "|Central Harlem North / Central Harlem                                |10304|\n",
      "|Central Harlem / Central Harlem North                                |10260|\n",
      "|Bedford / Crown Heights North                                        |10185|\n",
      "|Crown Heights North / Bedford                                        |10181|\n",
      "|Washington Heights South / Washington Heights South                  |10165|\n",
      "|Woodlawn/Wakefield / NA                                              |10091|\n",
      "|Park Slope / Park Slope                                              |9771 |\n",
      "|East New York/Pennsylvania Avenue / East New York                    |9748 |\n",
      "|Astoria / Steinway                                                   |9465 |\n",
      "|Ridgewood / Ridgewood                                                |9425 |\n",
      "|East New York / Canarsie                                             |9338 |\n",
      "|Flatlands / Flatlands                                                |9331 |\n",
      "|South Jamaica / Jamaica                                              |9288 |\n",
      "|East New York / East New York/Pennsylvania Avenue                    |9162 |\n",
      "|Steinway / Astoria                                                   |8963 |\n",
      "|Williamsbridge/Olinville / Williamsbridge/Olinville                  |8931 |\n",
      "|East Harlem North / East Harlem South                                |8910 |\n",
      "|Bushwick South / Stuyvesant Heights                                  |8822 |\n",
      "|Central Harlem North / East Harlem North                             |8662 |\n",
      "|Stuyvesant Heights / Bedford                                         |8654 |\n",
      "|Bedford / Stuyvesant Heights                                         |8614 |\n",
      "|Saint Albans / Saint Albans                                          |8602 |\n",
      "|Jamaica / Jamaica                                                    |8588 |\n",
      "|Stuyvesant Heights / Bushwick South                                  |8573 |\n",
      "|East Harlem North / East Harlem North                                |8573 |\n",
      "|Washington Heights North / Washington Heights South                  |8489 |\n",
      "|East Harlem South / East Harlem North                                |8445 |\n",
      "|Jackson Heights / Elmhurst                                           |8418 |\n",
      "|Washington Heights South / Washington Heights North                  |8409 |\n",
      "|East Harlem North / Central Harlem North                             |8120 |\n",
      "|Far Rockaway / Far Rockaway                                          |8104 |\n",
      "|Brownsville / Crown Heights North                                    |8073 |\n",
      "|Homecrest / Homecrest                                                |8039 |\n",
      "|Steinway / Steinway                                                  |7934 |\n",
      "|Elmhurst / Jackson Heights                                           |7921 |\n",
      "|Crown Heights North / Brownsville                                    |7784 |\n",
      "|Sunset Park West / Sunset Park West                                  |7710 |\n",
      "|Greenpoint / Greenpoint                                              |7619 |\n",
      "|East Flatbush/Remsen Village / Crown Heights North                   |7606 |\n",
      "|East Flatbush/Remsen Village / East Flatbush/Remsen Village          |7603 |\n",
      "|Jamaica / South Jamaica                                              |7559 |\n",
      "|Bushwick North / Bushwick North                                      |7527 |\n",
      "|Ridgewood / Bushwick North                                           |7525 |\n",
      "|Cypress Hills / East New York                                        |7520 |\n",
      "|Williamsbridge/Olinville / NA                                        |7508 |\n",
      "|Flatlands / Canarsie                                                 |7498 |\n",
      "|Bushwick North / Ridgewood                                           |7420 |\n",
      "|Ocean Hill / Crown Heights North                                     |7368 |\n",
      "|East Flatbush/Remsen Village / Canarsie                              |7365 |\n",
      "|Williamsburg (North Side) / Greenpoint                               |7365 |\n",
      "|East New York / Cypress Hills                                        |7363 |\n",
      "|Crown Heights South / Crown Heights North                            |7354 |\n",
      "|Mott Haven/Port Morris / Mott Haven/Port Morris                      |7317 |\n",
      "|Canarsie / East Flatbush/Remsen Village                              |7296 |\n",
      "|Flatbush/Ditmas Park / Prospect-Lefferts Gardens                     |7271 |\n",
      "|Washington Heights North / Washington Heights North                  |7201 |\n",
      "|Canarsie / Flatlands                                                 |7179 |\n",
      "|Central Harlem / East Harlem North                                   |7053 |\n",
      "|Flatlands / Flatbush/Ditmas Park                                     |7020 |\n",
      "|Greenpoint / Williamsburg (North Side)                               |6973 |\n",
      "|East Harlem North / Central Harlem                                   |6968 |\n",
      "|Prospect-Lefferts Gardens / Flatbush/Ditmas Park                     |6943 |\n",
      "|Bushwick South / Bedford                                             |6937 |\n",
      "|Sunnyside / Sunnyside                                                |6930 |\n",
      "|Hammels/Arverne / Hammels/Arverne                                    |6925 |\n",
      "|Crown Heights North / Crown Heights South                            |6889 |\n",
      "|Crown Heights North / Ocean Hill                                     |6849 |\n",
      "|Bedford / Bushwick South                                             |6833 |\n",
      "|Astoria / Old Astoria                                                |6810 |\n",
      "|Bushwick South / Crown Heights North                                 |6739 |\n",
      "|Crown Heights North / Bushwick South                                 |6727 |\n",
      "|Bay Ridge / Sunset Park West                                         |6714 |\n",
      "|South Williamsburg / South Williamsburg                              |6670 |\n",
      "|Crown Heights North / East Flatbush/Remsen Village                   |6649 |\n",
      "|Saint Albans / Jamaica                                               |6608 |\n",
      "|Sunset Park West / Bay Ridge                                         |6600 |\n",
      "|LaGuardia Airport / NA                                               |6585 |\n",
      "|Old Astoria / Astoria                                                |6573 |\n",
      "|Flushing / Flushing                                                  |6558 |\n",
      "|Richmond Hill / Richmond Hill                                        |6548 |\n",
      "|Sheepshead Bay / Sheepshead Bay                                      |6548 |\n",
      "|Midwood / Midwood                                                    |6507 |\n",
      "|Bedford / South Williamsburg                                         |6487 |\n",
      "|Richmond Hill / South Ozone Park                                     |6399 |\n",
      "|Saint George/New Brighton / Saint George/New Brighton                |6327 |\n",
      "|Sunnyside / Astoria                                                  |6313 |\n",
      "|Bushwick South / Ridgewood                                           |6295 |\n",
      "|Co-Op City / Co-Op City                                              |6288 |\n",
      "|Brownsville / East Flatbush/Remsen Village                           |6273 |\n",
      "|South Ozone Park / Richmond Hill                                     |6271 |\n",
      "|Rosedale / NA                                                        |6252 |\n",
      "|Central Harlem North / Hamilton Heights                              |6235 |\n",
      "|Far Rockaway / NA                                                    |6228 |\n",
      "|Flatbush/Ditmas Park / Flatlands                                     |6223 |\n",
      "|East Flatbush/Remsen Village / Brownsville                           |6175 |\n",
      "|Mott Haven/Port Morris / Melrose South                               |6140 |\n",
      "|Crown Heights North / East New York                                  |6107 |\n",
      "|Ridgewood / Bushwick South                                           |6100 |\n",
      "|East Williamsburg / Bushwick South                                   |6080 |\n",
      "|Coney Island / Coney Island                                          |6002 |\n",
      "|Bushwick South / East Williamsburg                                   |5943 |\n",
      "|Melrose South / Mott Haven/Port Morris                               |5922 |\n",
      "|Central Harlem North / Washington Heights South                      |5907 |\n",
      "|East Flatbush/Farragut / East Flatbush/Farragut                      |5860 |\n",
      "|Bensonhurst West / Bensonhurst West                                  |5852 |\n",
      "|Williamsburg (North Side) / Williamsburg (South Side)                |5824 |\n",
      "|Flatbush/Ditmas Park / East Flatbush/Farragut                        |5820 |\n",
      "|Brownsville / Ocean Hill                                             |5793 |\n",
      "|East Flatbush/Farragut / Prospect-Lefferts Gardens                   |5790 |\n",
      "|Astoria / Sunnyside                                                  |5760 |\n",
      "|Williamsburg (South Side) / Williamsburg (North Side)                |5734 |\n",
      "|Park Slope / Crown Heights North                                     |5729 |\n",
      "|East Flatbush/Remsen Village / East New York                         |5676 |\n",
      "|Hamilton Heights / Washington Heights South                          |5673 |\n",
      "|East Flatbush/Remsen Village / Prospect-Lefferts Gardens             |5659 |\n",
      "|East Flatbush/Farragut / Flatbush/Ditmas Park                        |5647 |\n",
      "|Norwood / NA                                                         |5635 |\n",
      "|Prospect-Lefferts Gardens / Crown Heights South                      |5617 |\n",
      "|South Williamsburg / Bedford                                         |5591 |\n",
      "|Upper East Side South / Upper East Side North                        |5583 |\n",
      "|Stuyvesant Heights / Bushwick North                                  |5575 |\n",
      "|Hamilton Heights / Central Harlem North                              |5575 |\n",
      "|Schuylerville/Edgewater Park / Schuylerville/Edgewater Park          |5559 |\n",
      "|Jackson Heights / Astoria                                            |5547 |\n",
      "|Queens Village / NA                                                  |5538 |\n",
      "|East Williamsburg / Williamsburg (North Side)                        |5496 |\n",
      "|East New York / Crown Heights North                                  |5495 |\n",
      "|Corona / Elmhurst                                                    |5475 |\n",
      "|Baisley Park / Jamaica                                               |5468 |\n",
      "|Fort Greene / Crown Heights North                                    |5468 |\n",
      "|West Village / East Village                                          |5463 |\n",
      "|Flatbush/Ditmas Park / Erasmus                                       |5459 |\n",
      "|Crown Heights North / Park Slope                                     |5456 |\n",
      "|East Village / West Village                                          |5446 |\n",
      "|East Harlem South / East Harlem South                                |5433 |\n",
      "|Erasmus / Flatbush/Ditmas Park                                       |5422 |\n",
      "|Flatlands / Marine Park/Mill Basin                                   |5417 |\n",
      "|Prospect-Lefferts Gardens / East Flatbush/Remsen Village             |5415 |\n",
      "|Upper East Side North / Upper East Side South                        |5411 |\n",
      "|East Williamsburg / Greenpoint                                       |5402 |\n",
      "|Saint Albans / NA                                                    |5375 |\n",
      "|Canarsie / Brownsville                                               |5365 |\n",
      "|Washington Heights South / Central Harlem North                      |5354 |\n",
      "|Bushwick North / Stuyvesant Heights                                  |5350 |\n",
      "|Astoria / Jackson Heights                                            |5345 |\n",
      "|East New York / East Flatbush/Remsen Village                         |5318 |\n",
      "|Ocean Hill / Brownsville                                             |5285 |\n",
      "|Williamsburg (North Side) / East Williamsburg                        |5244 |\n",
      "|Prospect-Lefferts Gardens / East Flatbush/Farragut                   |5234 |\n",
      "|Queens Village / Queens Village                                      |5207 |\n",
      "|Jamaica / Saint Albans                                               |5197 |\n",
      "|Brownsville / Canarsie                                               |5192 |\n",
      "|Crown Heights North / Fort Greene                                    |5184 |\n",
      "|South Ozone Park / JFK Airport                                       |5180 |\n",
      "|Washington Heights South / NA                                        |5180 |\n",
      "|Eastchester / NA                                                     |5158 |\n",
      "|Crown Heights South / Prospect-Lefferts Gardens                      |5144 |\n",
      "|Ocean Hill / East New York                                           |5107 |\n",
      "|Long Island City/Hunters Point / Long Island City/Hunters Point      |5065 |\n",
      "|Bedford Park / Bedford Park                                          |5063 |\n",
      "|Central Harlem / Central Harlem                                      |5042 |\n",
      "|Washington Heights South / Hamilton Heights                          |5036 |\n",
      "|Woodhaven / Woodhaven                                                |5004 |\n",
      "|Cypress Hills / Cypress Hills                                        |4946 |\n",
      "|Clinton Hill / Crown Heights North                                   |4936 |\n",
      "|East Concourse/Concourse Village / West Concourse                    |4932 |\n",
      "|East New York / Ocean Hill                                           |4930 |\n",
      "|Greenpoint / East Williamsburg                                       |4923 |\n",
      "|University Heights/Morris Heights / University Heights/Morris Heights|4896 |\n",
      "|Brownsville / East New York/Pennsylvania Avenue                      |4882 |\n",
      "|Hammels/Arverne / Far Rockaway                                       |4878 |\n",
      "|Ocean Hill / Ocean Hill                                              |4873 |\n",
      "+---------------------------------------------------------------------+-----+\n",
      "only showing top 200 rows\n",
      "\n"
     ]
    },
    {
     "name": "stderr",
     "output_type": "stream",
     "text": [
      "                                                                                \r"
     ]
    }
   ],
   "source": [
    "spark.sql(\"\"\"\n",
    "SELECT CONCAT(zpu.Zone, ' / ', zdo.Zone) as pair, count(1) as count\n",
    "FROM fhvhv_data\n",
    "FULL OUTER JOIN zones as zpu ON fhvhv_data.PULocationID=zpu.LocationID\n",
    "FULL OUTER JOIN zones as zdo ON fhvhv_data.DOLocationID=zdo.LocationID\n",
    "GROUP BY pair\n",
    "ORDER BY count desc\n",
    "\"\"\").show(200,truncate=False)"
   ]
  },
  {
   "cell_type": "code",
   "execution_count": null,
   "id": "cf6ee74d",
   "metadata": {},
   "outputs": [],
   "source": []
  }
 ],
 "metadata": {
  "kernelspec": {
   "display_name": "Python 3 (ipykernel)",
   "language": "python",
   "name": "python3"
  },
  "language_info": {
   "codemirror_mode": {
    "name": "ipython",
    "version": 3
   },
   "file_extension": ".py",
   "mimetype": "text/x-python",
   "name": "python",
   "nbconvert_exporter": "python",
   "pygments_lexer": "ipython3",
   "version": "3.9.7"
  }
 },
 "nbformat": 4,
 "nbformat_minor": 5
}
